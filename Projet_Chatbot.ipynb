{
  "nbformat": 4,
  "nbformat_minor": 0,
  "metadata": {
    "colab": {
      "provenance": [],
      "authorship_tag": "ABX9TyMaBPGYGnkZqYojSZFi9qDs",
      "include_colab_link": true
    },
    "kernelspec": {
      "name": "python3",
      "display_name": "Python 3"
    },
    "language_info": {
      "name": "python"
    }
  },
  "cells": [
    {
      "cell_type": "markdown",
      "metadata": {
        "id": "view-in-github",
        "colab_type": "text"
      },
      "source": [
        "<a href=\"https://colab.research.google.com/github/Lucreiche04/Lucreiche04/blob/main/Projet_Chatbot.ipynb\" target=\"_parent\"><img src=\"https://colab.research.google.com/assets/colab-badge.svg\" alt=\"Open In Colab\"/></a>"
      ]
    },
    {
      "cell_type": "code",
      "execution_count": 1,
      "metadata": {
        "colab": {
          "base_uri": "https://localhost:8080/"
        },
        "id": "y72JdGCgQ-nb",
        "outputId": "211a1ace-a539-489d-fee9-c3780b107e2a"
      },
      "outputs": [
        {
          "output_type": "stream",
          "name": "stdout",
          "text": [
            "Bonjour ! Je suis ici pour vous aider à améliorer vos résultats académiques.\n",
            "Comment vous appelez-vous ? Lulu\n",
            "Ravi de vous rencontrer, Lulu !\n",
            "Combien de cours avez-vous manqué ce semestre ? 5\n",
            "À quel point participez-vous activement en classe sur une échelle de 1 à 5 ? 3\n",
            "Quelle est votre note moyenne jusqu'à présent ? 14\n",
            "Avez-vous remarqué une amélioration ou une baisse de vos notes par rapport au semestre précédent ? (Amélioration/Baisse) Baisse\n",
            "Combien d'heures par semaine consacrez-vous à l'étude en dehors des cours ? 5\n",
            "Combien de jours à l'avance commencez-vous à réviser pour un examen important ? 7\n",
            "Combien d'heures dormez-vous en moyenne par nuit ? 5\n",
            "Comment évaluez-vous votre niveau de stress avant les examens sur une échelle de 1 à 5 ? 4\n",
            "À quel point êtes-vous motivé pour améliorer vos résultats cette année ? (1 à 5) 5\n",
            "Utilisez-vous souvent les ressources académiques fournies par le professeur ou cherchez-vous des supports supplémentaires ailleurs ? (Ressources académiques/Suppléments) Suppléments\n",
            "\n",
            "--- Conseils personnalisés ---\n",
            "\n",
            "Il semble que vous ayez manqué plusieurs cours. Essayez de limiter les absences, cela pourrait avoir un impact positif sur vos résultats.\n",
            "Il semble que votre niveau de stress soit élevé. Pensez à faire des pauses et à adopter des techniques de gestion du stress.\n",
            "N'oubliez pas d'utiliser toutes les ressources académiques disponibles pour vous aider à progresser.\n"
          ]
        }
      ],
      "source": [
        "# 1. Accueil et personnalisation\n",
        "def greet_user():\n",
        "    print(\"Bonjour ! Je suis ici pour vous aider à améliorer vos résultats académiques.\")\n",
        "    name = input(\"Comment vous appelez-vous ? \")\n",
        "    print(f\"Ravi de vous rencontrer, {name} !\")\n",
        "    return name\n",
        "\n",
        "# 2. Questions sur les performances académiques\n",
        "def ask_academic_performance():\n",
        "    missed_classes = int(input(\"Combien de cours avez-vous manqué ce semestre ? \"))\n",
        "    participation = int(input(\"À quel point participez-vous activement en classe sur une échelle de 1 à 5 ? \"))\n",
        "    avg_grade = float(input(\"Quelle est votre note moyenne jusqu'à présent ? \"))\n",
        "    grade_trend = input(\"Avez-vous remarqué une amélioration ou une baisse de vos notes par rapport au semestre précédent ? (Amélioration/Baisse) \")\n",
        "\n",
        "    return missed_classes, participation, avg_grade, grade_trend\n",
        "\n",
        "# 3. Organisation et gestion du temps\n",
        "def ask_time_management():\n",
        "    study_hours = int(input(\"Combien d'heures par semaine consacrez-vous à l'étude en dehors des cours ? \"))\n",
        "    exam_preparation = int(input(\"Combien de jours à l'avance commencez-vous à réviser pour un examen important ? \"))\n",
        "    sleep_hours = int(input(\"Combien d'heures dormez-vous en moyenne par nuit ? \"))\n",
        "\n",
        "    return study_hours, exam_preparation, sleep_hours\n",
        "\n",
        "# 4. Questions supplémentaires pour mieux cibler les conseils\n",
        "def ask_additional_questions():\n",
        "    stress_level = int(input(\"Comment évaluez-vous votre niveau de stress avant les examens sur une échelle de 1 à 5 ? \"))\n",
        "    motivation = int(input(\"À quel point êtes-vous motivé pour améliorer vos résultats cette année ? (1 à 5) \"))\n",
        "    use_of_resources = input(\"Utilisez-vous souvent les ressources académiques fournies par le professeur ou cherchez-vous des supports supplémentaires ailleurs ? (Ressources académiques/Suppléments) \")\n",
        "\n",
        "    return stress_level, motivation, use_of_resources\n",
        "\n",
        "# 5. Analyse des réponses et conseils personnalisés\n",
        "def give_advice(missed_classes, participation, avg_grade, grade_trend, study_hours, exam_preparation, sleep_hours, stress_level, motivation, use_of_resources):\n",
        "    print(\"\\n--- Conseils personnalisés ---\\n\")\n",
        "\n",
        "    if missed_classes > 3:\n",
        "        print(\"Il semble que vous ayez manqué plusieurs cours. Essayez de limiter les absences, cela pourrait avoir un impact positif sur vos résultats.\")\n",
        "\n",
        "    if participation < 3:\n",
        "        print(\"Vous avez mentionné que vous participez peu en classe. Augmenter votre participation peut vous aider à mieux comprendre les concepts et améliorer vos notes.\")\n",
        "\n",
        "    if exam_preparation < 7:\n",
        "        print(\"Si vous commencez à réviser trop tard, essayez d'établir un planning d'étude régulier pour être mieux préparé avant les examens.\")\n",
        "\n",
        "    if stress_level > 3:\n",
        "        print(\"Il semble que votre niveau de stress soit élevé. Pensez à faire des pauses et à adopter des techniques de gestion du stress.\")\n",
        "\n",
        "    if motivation < 3:\n",
        "        print(\"Essayez de fixer des objectifs clairs et atteignables pour rester motivé tout au long de l'année.\")\n",
        "\n",
        "    print(\"N'oubliez pas d'utiliser toutes les ressources académiques disponibles pour vous aider à progresser.\")\n",
        "\n",
        "# Lancer le chatbot\n",
        "if __name__ == \"__main__\":\n",
        "    user_name = greet_user()\n",
        "    missed_classes, participation, avg_grade, grade_trend = ask_academic_performance()\n",
        "    study_hours, exam_preparation, sleep_hours = ask_time_management()\n",
        "    stress_level, motivation, use_of_resources = ask_additional_questions()\n",
        "    give_advice(missed_classes, participation, avg_grade, grade_trend, study_hours, exam_preparation, sleep_hours, stress_level, motivation, use_of_resources)\n"
      ]
    }
  ]
}